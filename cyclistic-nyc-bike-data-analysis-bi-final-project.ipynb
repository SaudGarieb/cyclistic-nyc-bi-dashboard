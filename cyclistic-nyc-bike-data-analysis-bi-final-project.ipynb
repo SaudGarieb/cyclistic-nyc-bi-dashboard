{
 "cells": [
  {
   "cell_type": "code",
   "execution_count": 1,
   "id": "0eadb21f",
   "metadata": {
    "_execution_state": "idle",
    "_uuid": "051d70d956493feee0c6d64651c6a088724dca2a",
    "execution": {
     "iopub.execute_input": "2025-05-10T08:49:15.058693Z",
     "iopub.status.busy": "2025-05-10T08:49:15.056523Z",
     "iopub.status.idle": "2025-05-10T08:49:16.582990Z",
     "shell.execute_reply": "2025-05-10T08:49:16.581025Z"
    },
    "papermill": {
     "duration": 1.533768,
     "end_time": "2025-05-10T08:49:16.585735",
     "exception": false,
     "start_time": "2025-05-10T08:49:15.051967",
     "status": "completed"
    },
    "tags": []
   },
   "outputs": [
    {
     "name": "stderr",
     "output_type": "stream",
     "text": [
      "── \u001b[1mAttaching core tidyverse packages\u001b[22m ──────────────────────── tidyverse 2.0.0 ──\n",
      "\u001b[32m✔\u001b[39m \u001b[34mdplyr    \u001b[39m 1.1.4     \u001b[32m✔\u001b[39m \u001b[34mreadr    \u001b[39m 2.1.5\n",
      "\u001b[32m✔\u001b[39m \u001b[34mforcats  \u001b[39m 1.0.0     \u001b[32m✔\u001b[39m \u001b[34mstringr  \u001b[39m 1.5.1\n",
      "\u001b[32m✔\u001b[39m \u001b[34mggplot2  \u001b[39m 3.5.1     \u001b[32m✔\u001b[39m \u001b[34mtibble   \u001b[39m 3.2.1\n",
      "\u001b[32m✔\u001b[39m \u001b[34mlubridate\u001b[39m 1.9.3     \u001b[32m✔\u001b[39m \u001b[34mtidyr    \u001b[39m 1.3.1\n",
      "\u001b[32m✔\u001b[39m \u001b[34mpurrr    \u001b[39m 1.0.2     \n"
     ]
    },
    {
     "name": "stderr",
     "output_type": "stream",
     "text": [
      "── \u001b[1mConflicts\u001b[22m ────────────────────────────────────────── tidyverse_conflicts() ──\n",
      "\u001b[31m✖\u001b[39m \u001b[34mdplyr\u001b[39m::\u001b[32mfilter()\u001b[39m masks \u001b[34mstats\u001b[39m::filter()\n",
      "\u001b[31m✖\u001b[39m \u001b[34mdplyr\u001b[39m::\u001b[32mlag()\u001b[39m    masks \u001b[34mstats\u001b[39m::lag()\n",
      "\u001b[36mℹ\u001b[39m Use the conflicted package (\u001b[3m\u001b[34m<http://conflicted.r-lib.org/>\u001b[39m\u001b[23m) to force all conflicts to become errors\n"
     ]
    },
    {
     "data": {
      "text/html": [
       "'cyclistic-nyc'"
      ],
      "text/latex": [
       "'cyclistic-nyc'"
      ],
      "text/markdown": [
       "'cyclistic-nyc'"
      ],
      "text/plain": [
       "[1] \"cyclistic-nyc\""
      ]
     },
     "metadata": {},
     "output_type": "display_data"
    }
   ],
   "source": [
    "# This R environment comes with many helpful analytics packages installed\n",
    "# It is defined by the kaggle/rstats Docker image: https://github.com/kaggle/docker-rstats\n",
    "# For example, here's a helpful package to load\n",
    "\n",
    "library(tidyverse) # metapackage of all tidyverse packages\n",
    "\n",
    "# Input data files are available in the read-only \"../input/\" directory\n",
    "# For example, running this (by clicking run or pressing Shift+Enter) will list all files under the input directory\n",
    "\n",
    "list.files(path = \"../input\")\n",
    "\n",
    "# You can write up to 20GB to the current directory (/kaggle/working/) that gets preserved as output when you create a version using \"Save & Run All\" \n",
    "# You can also write temporary files to /kaggle/temp/, but they won't be saved outside of the current session"
   ]
  },
  {
   "cell_type": "markdown",
   "id": "c7485fb6",
   "metadata": {
    "papermill": {
     "duration": 0.001896,
     "end_time": "2025-05-10T08:49:16.589864",
     "exception": false,
     "start_time": "2025-05-10T08:49:16.587968",
     "status": "completed"
    },
    "tags": []
   },
   "source": []
  },
  {
   "cell_type": "markdown",
   "id": "6938d9e1",
   "metadata": {
    "papermill": {
     "duration": 0.001778,
     "end_time": "2025-05-10T08:49:16.593505",
     "exception": false,
     "start_time": "2025-05-10T08:49:16.591727",
     "status": "completed"
    },
    "tags": []
   },
   "source": [
    "# Cyclistic Bike-Share Analysis — Google BI Certificate Final Project\n",
    "\n",
    "This business intelligence (BI) project analyzes New York City's Cyclistic bike-share data as part of the Google Business Intelligence Certificate.\n",
    "\n",
    "---\n",
    "\n",
    "## 📅 Project Overview\n",
    "This project focuses on uncovering key insights from NYC bike-share usage in 2019 and 2020. It uses Tableau for visualization and public datasets including trip data, weather information, and zip code boundaries.\n",
    "\n",
    "The analysis is divided into three main dashboard tabs:\n",
    "\n",
    "1. **Summer Trends** — Seasonal trip behavior in July, August, September\n",
    "2. **Seasonality** — Monthly trip totals and neighborhood usage heatmaps\n",
    "3. **Top Trips** — Neighborhoods with the highest total ride durations\n",
    "\n",
    "---\n",
    "\n",
    "## 🔍 Executive Summary\n",
    "**Business Needs:** Cyclistic aims to understand usage behavior to optimize marketing and infrastructure strategies.\n",
    "\n",
    "**Goals:**\n",
    "- Identify peak trip months and popular neighborhoods\n",
    "- Understand differences between casual riders and subscribers\n",
    "- Inform expansion efforts and targeted outreach\n",
    "\n",
    "**BI Methods:**\n",
    "- SQL queries in BigQuery to generate target tables\n",
    "- Calculated fields and filters in Tableau for analysis\n",
    "- Dashboards designed with filters, parameter controls, and drill-down actions\n",
    "\n",
    "**Key Insights:**\n",
    "- Subscribers consistently make more trips, especially in warmer months\n",
    "- Lower East Side, Chelsea, and Clinton areas have highest ride durations\n",
    "- Summer months show peaks in ride volume and longer trip durations\n",
    "\n",
    "---\n",
    "\n",
    "## 🎨 Dashboard Link\n",
    "> 🔗 https://public.tableau.com/app/profile/saud.alshammari/viz/CyclisticBike-ShareAnalysisGoogleBICertificateFinalProject_17465159433040/SummerTrends\n",
    "\n",
    "---\n",
    "\n",
    "## 📂 Files and Resources\n",
    "- Executive Summary (PDF)\n",
    "- Tableau Workbook (Public link)\n",
    "- Source CSV Files:\n",
    "  - `Examplar Cyclistic summer time.csv`\n",
    "  - `Examplar Cyclistic year time.csv`\n",
    "\n",
    "## 🧠 SQL Code: Target Tables\n",
    "\n",
    "### 📌 Target Table 1: Full-Year Trip Summary\n",
    "```sql\n",
    "SELECT\n",
    "  TRI.usertype,\n",
    "  ZIPSTART.zip_code AS zip_code_start,\n",
    "  ZIPSTARTNAME.borough AS borough_start,\n",
    "  ZIPSTARTNAME.neighborhood AS neighborhood_start,\n",
    "  ZIPEND.zip_code AS zip_code_end,\n",
    "  ZIPENDNAME.borough AS borough_end,\n",
    "  ZIPENDNAME.neighborhood AS neighborhood_end,\n",
    "  DATE_ADD(DATE(TRI.starttime), INTERVAL 5 YEAR) AS start_day,\n",
    "  DATE_ADD(DATE(TRI.stoptime), INTERVAL 5 YEAR) AS stop_day,\n",
    "  WEA.temp AS day_mean_temperature,\n",
    "  WEA.wdsp AS day_mean_wind_speed,\n",
    "  WEA.prcp AS day_total_precipitation,\n",
    "  ROUND(CAST(TRI.tripduration / 60 AS INT64), -1) AS trip_minutes,\n",
    "  COUNT(TRI.bikeid) AS trip_count\n",
    "FROM `bigquery-public-data.new_york_citibike.citibike_trips` AS TRI\n",
    "INNER JOIN `bigquery-public-data.geo_us_boundaries.zip_codes` ZIPSTART\n",
    "  ON ST_WITHIN(ST_GEOGPOINT(TRI.start_station_longitude, TRI.start_station_latitude), ZIPSTART.zip_code_geom)\n",
    "INNER JOIN `bigquery-public-data.geo_us_boundaries.zip_codes` ZIPEND\n",
    "  ON ST_WITHIN(ST_GEOGPOINT(TRI.end_station_longitude, TRI.end_station_latitude), ZIPEND.zip_code_geom)\n",
    "INNER JOIN `bigquery-public-data.noaa_gsod.gsod20*` AS WEA\n",
    "  ON PARSE_DATE(\"%Y%m%d\", CONCAT(WEA.year, WEA.mo, WEA.da)) = DATE(TRI.starttime)\n",
    "INNER JOIN `legalbi.sandbox.zipcodes` AS ZIPSTARTNAME\n",
    "  ON ZIPSTART.zip_code = CAST(ZIPSTARTNAME.zip AS STRING)\n",
    "INNER JOIN `legalbi.sandbox.zipcodes` AS ZIPENDNAME\n",
    "  ON ZIPEND.zip_code = CAST(ZIPENDNAME.zip AS STRING)\n",
    "WHERE\n",
    "  WEA.wban = '94728'\n",
    "  AND EXTRACT(YEAR FROM DATE(TRI.starttime)) BETWEEN 2014 AND 2015\n",
    "GROUP BY 1,2,3,4,5,6,7,8,9,10,11,12,13\n",
    "```\n",
    "\n",
    "### 📌 Target Table 2: Summer Season Trip Summary\n",
    "```sql\n",
    "SELECT\n",
    "  TRI.usertype,\n",
    "  TRI.start_station_longitude,\n",
    "  TRI.start_station_latitude,\n",
    "  TRI.end_station_longitude,\n",
    "  TRI.end_station_latitude,\n",
    "  ZIPSTART.zip_code AS zip_code_start,\n",
    "  ZIPSTARTNAME.borough AS borough_start,\n",
    "  ZIPSTARTNAME.neighborhood AS neighborhood_start,\n",
    "  ZIPEND.zip_code AS zip_code_end,\n",
    "  ZIPENDNAME.borough AS borough_end,\n",
    "  ZIPENDNAME.neighborhood AS neighborhood_end,\n",
    "  DATE_ADD(DATE(TRI.starttime), INTERVAL 5 YEAR) AS start_day,\n",
    "  DATE_ADD(DATE(TRI.stoptime), INTERVAL 5 YEAR) AS stop_day,\n",
    "  WEA.temp AS day_mean_temperature,\n",
    "  WEA.wdsp AS day_mean_wind_speed,\n",
    "  WEA.prcp AS day_total_precipitation,\n",
    "  ROUND(CAST(TRI.tripduration / 60 AS INT64), -1) AS trip_minutes,\n",
    "  TRI.bikeid\n",
    "FROM `bigquery-public-data.new_york_citibike.citibike_trips` AS TRI\n",
    "INNER JOIN `bigquery-public-data.geo_us_boundaries.zip_codes` ZIPSTART\n",
    "  ON ST_WITHIN(ST_GEOGPOINT(TRI.start_station_longitude, TRI.start_station_latitude), ZIPSTART.zip_code_geom)\n",
    "INNER JOIN `bigquery-public-data.geo_us_boundaries.zip_codes` ZIPEND\n",
    "  ON ST_WITHIN(ST_GEOGPOINT(TRI.end_station_longitude, TRI.end_station_latitude), ZIPEND.zip_code_geom)\n",
    "INNER JOIN `bigquery-public-data.noaa_gsod.gsod20*` AS WEA\n",
    "  ON PARSE_DATE(\"%Y%m%d\", CONCAT(WEA.year, WEA.mo, WEA.da)) = DATE(TRI.starttime)\n",
    "INNER JOIN `legalbi.sandbox.zipcodes` AS ZIPSTARTNAME\n",
    "  ON ZIPSTART.zip_code = CAST(ZIPSTARTNAME.zip AS STRING)\n",
    "INNER JOIN `legalbi.sandbox.zipcodes` AS ZIPENDNAME\n",
    "  ON ZIPEND.zip_code = CAST(ZIPENDNAME.zip AS STRING)\n",
    "WHERE\n",
    "  WEA.wban = '94728'\n",
    "  AND DATE(TRI.starttime) BETWEEN DATE('2015-07-01') AND DATE('2015-09-30')\n",
    "```\n",
    "\n",
    "---\n",
    "\n",
    "---\n",
    "\n",
    "## 🤝 Acknowledgments\n",
    "This project was created for the **Google Business Intelligence Certificate** on Coursera.\n",
    "\n",
    "Tags: `#business-intelligence`, `#tableau`, `#cyclistic`, `#googlebi`, `#nyc`, `#dataviz`\n",
    "\n",
    "---\n",
    "\n",
    "> Contact me or view more of my work on my Tableau Public profile: https://public.tableau.com/app/profile/saud.alshammari/vizzes"
   ]
  }
 ],
 "metadata": {
  "kaggle": {
   "accelerator": "none",
   "dataSources": [
    {
     "datasetId": 7380117,
     "sourceId": 11755855,
     "sourceType": "datasetVersion"
    },
    {
     "datasetId": 7380603,
     "sourceId": 11756690,
     "sourceType": "datasetVersion"
    }
   ],
   "dockerImageVersionId": 30749,
   "isGpuEnabled": false,
   "isInternetEnabled": true,
   "language": "r",
   "sourceType": "notebook"
  },
  "kernelspec": {
   "display_name": "R",
   "language": "R",
   "name": "ir"
  },
  "language_info": {
   "codemirror_mode": "r",
   "file_extension": ".r",
   "mimetype": "text/x-r-source",
   "name": "R",
   "pygments_lexer": "r",
   "version": "4.4.0"
  },
  "papermill": {
   "default_parameters": {},
   "duration": 5.289559,
   "end_time": "2025-05-10T08:49:16.717400",
   "environment_variables": {},
   "exception": null,
   "input_path": "__notebook__.ipynb",
   "output_path": "__notebook__.ipynb",
   "parameters": {},
   "start_time": "2025-05-10T08:49:11.427841",
   "version": "2.6.0"
  }
 },
 "nbformat": 4,
 "nbformat_minor": 5
}
